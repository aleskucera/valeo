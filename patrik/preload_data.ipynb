{
 "cells": [
  {
   "cell_type": "code",
   "execution_count": 3,
   "metadata": {
    "ExecuteTime": {
     "end_time": "2024-01-27T14:59:59.194557594Z",
     "start_time": "2024-01-27T14:59:59.116169102Z"
    }
   },
   "outputs": [
    {
     "name": "stdout",
     "output_type": "stream",
     "text": [
      "dict_keys(['pc1', 'pc2', 'gt_flow', 'full_pc2', 'padded_mask_N', 'padded_mask_M', 'relative_pose', 'box1', 'id_mask1', 'mos1', 'frame_path_list'])\n",
      "['/home/ales/school/valeo/data/waymo/processed/train/segment-10485926982439064520_4980_000_5000_000_with_camera_labels.tfrecord/000080.npz']\n"
     ]
    }
   ],
   "source": [
    "from patrik.dataloader import SFDataset4D\n",
    "\n",
    "# device = torch.device('cuda:7')\n",
    "\n",
    "dataset = SFDataset4D(dataset_type='waymo', data_split='*', n_frames=1)  # can preload more frames\n",
    "frame = 80\n",
    "\n",
    "data = dataset[frame]  # iteration should work too\n",
    "print(data.keys())\n",
    "print(data['frame_path_list'])\n"
   ]
  },
  {
   "cell_type": "code",
   "outputs": [
    {
     "name": "stdout",
     "output_type": "stream",
     "text": [
      "\u001B[1;33m[Open3D WARNING] GLFW Error: GLX: Failed to create context: GLXBadFBConfig\u001B[0;m\n",
      "\u001B[1;33m[Open3D WARNING] Failed to create window\u001B[0;m\n",
      "\u001B[1;33m[Open3D WARNING] [DrawGeometries] Failed creating OpenGL window.\u001B[0;m\n"
     ]
    },
    {
     "name": "stderr",
     "output_type": "stream",
     "text": [
      "libGL error: MESA-LOADER: failed to open iris: /usr/lib/dri/iris_dri.so: cannot open shared object file: No such file or directory (search paths /usr/lib/x86_64-linux-gnu/dri:\\$${ORIGIN}/dri:/usr/lib/dri, suffix _dri)\n",
      "libGL error: failed to load driver: iris\n",
      "libGL error: MESA-LOADER: failed to open iris: /usr/lib/dri/iris_dri.so: cannot open shared object file: No such file or directory (search paths /usr/lib/x86_64-linux-gnu/dri:\\$${ORIGIN}/dri:/usr/lib/dri, suffix _dri)\n",
      "libGL error: failed to load driver: iris\n",
      "libGL error: MESA-LOADER: failed to open swrast: /usr/lib/dri/swrast_dri.so: cannot open shared object file: No such file or directory (search paths /usr/lib/x86_64-linux-gnu/dri:\\$${ORIGIN}/dri:/usr/lib/dri, suffix _dri)\n",
      "libGL error: failed to load driver: swrast\n"
     ]
    }
   ],
   "source": [
    "import numpy as np\n",
    "import open3d as o3d\n",
    "import os\n",
    "\n",
    "os.environ[\"LIBGL_ALWAYS_INDIRECT\"] = \"0\"\n",
    "\n",
    "# Run export LIBGL_ALWAYS_INDIRECT=0 before running this script\n",
    "# to avoid the error: GLXBadContext 169\n",
    "\n",
    "\n",
    "# Visualize the first point cloud which is stored in the data['pc1'] variable\n",
    "pcd = o3d.geometry.PointCloud()\n",
    "pc1 = np.array(data['pc1'])\n",
    "\n",
    "# REshape the point cloud to be a list of points\n",
    "pc1 = pc1.reshape(-1, 3)\n",
    "pcd.points = o3d.utility.Vector3dVector(pc1)\n",
    "o3d.visualization.draw_geometries([pcd])\n",
    "\n"
   ],
   "metadata": {
    "collapsed": false,
    "ExecuteTime": {
     "end_time": "2024-01-27T15:10:25.822465793Z",
     "start_time": "2024-01-27T15:10:25.696410105Z"
    }
   },
   "execution_count": 8
  },
  {
   "cell_type": "code",
   "outputs": [],
   "source": [],
   "metadata": {
    "collapsed": false
   }
  }
 ],
 "metadata": {
  "kernelspec": {
   "display_name": "Python 3 (ipykernel)",
   "language": "python",
   "name": "python3"
  },
  "language_info": {
   "codemirror_mode": {
    "name": "ipython",
    "version": 3
   },
   "file_extension": ".py",
   "mimetype": "text/x-python",
   "name": "python",
   "nbconvert_exporter": "python",
   "pygments_lexer": "ipython3",
   "version": "3.9.5"
  }
 },
 "nbformat": 4,
 "nbformat_minor": 2
}
